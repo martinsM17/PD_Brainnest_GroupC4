{
 "cells": [
  {
   "attachments": {},
   "cell_type": "markdown",
   "metadata": {},
   "source": [
    "1. Create a class called Rectangle that has attributes width and height. Add methods area and perimeter that calculate the area and perimeter of the rectangle, respectively."
   ]
  },
  {
   "cell_type": "code",
   "execution_count": 2,
   "metadata": {},
   "outputs": [
    {
     "name": "stdout",
     "output_type": "stream",
     "text": [
      "20\n",
      "18\n"
     ]
    }
   ],
   "source": [
    "class Rectangle:\n",
    "    def __init__(self, width, height):\n",
    "        self.width = width\n",
    "        self.height = height\n",
    "\n",
    "    def area_r(self):\n",
    "        area_ = self.width * self.height\n",
    "        print(area_)\n",
    "\n",
    "    def perimeter_r(self):\n",
    "        perimeter_ = 2*(self.width + self.height)\n",
    "        print(perimeter_)\n",
    "\n",
    "r_1 = Rectangle(4,5)\n",
    "r_1.area_r()\n",
    "r_1.perimeter_r()        \n"
   ]
  },
  {
   "attachments": {},
   "cell_type": "markdown",
   "metadata": {},
   "source": [
    "2. Create a class called Circle that has attribute radius. Add methods area and circumference that calculate the area and circumference of the circle, respectively."
   ]
  },
  {
   "cell_type": "code",
   "execution_count": 12,
   "metadata": {},
   "outputs": [
    {
     "name": "stdout",
     "output_type": "stream",
     "text": [
      "31.4159\n",
      "78.53975\n"
     ]
    }
   ],
   "source": [
    "class Circle:\n",
    "    def __init__(self,radius):\n",
    "        self.radius = radius\n",
    "        \n",
    "        \n",
    "    def circumference_c(self):\n",
    "        circumference_ = self.radius * (2*3.14159)\n",
    "        print(circumference_)\n",
    "\n",
    "\n",
    "    def area_c(self):\n",
    "        area_ = (self.radius**2) * 3.14159\n",
    "        print(area_)\n",
    "\n",
    "c_1 = Circle(5)\n",
    "c_1.circumference_c()\n",
    "c_1.area_c()                "
   ]
  },
  {
   "attachments": {},
   "cell_type": "markdown",
   "metadata": {},
   "source": [
    "3. Create a class called Car that has attributes make, model, and year. Add methods start and stop that simulate starting and stopping the car, respectively."
   ]
  },
  {
   "cell_type": "code",
   "execution_count": 27,
   "metadata": {},
   "outputs": [
    {
     "name": "stdout",
     "output_type": "stream",
     "text": [
      "Starting the car...\n",
      "Stopping the car...\n",
      "Starting the car...\n",
      "Stopping the car...\n"
     ]
    }
   ],
   "source": [
    "class Car:\n",
    "    def __init__(self, make, model, year):\n",
    "        self.make = make\n",
    "        self.model = model\n",
    "        self.year = year\n",
    "        self.is_running = False\n",
    "\n",
    "    def start_(self):\n",
    "        if self.is_running:\n",
    "            print(\"Car is already running!\")\n",
    "        else:\n",
    "            self.is_running = True\n",
    "            print(\"Starting the car...\")\n",
    "\n",
    "    def stop_(self):\n",
    "        if not self.is_running:\n",
    "            print(\"Car is already stopped!\")\n",
    "        else:\n",
    "            self.is_running = False\n",
    "            print(\"Stopping the car...\")\n",
    "        \n",
    "car_1 = Car(\"Audi\", \"A8\", 2008)\n",
    "car_1.start_()\n",
    "car_1.stop_()\n",
    "car_1.start_()\n",
    "car_1.stop_()                            "
   ]
  },
  {
   "attachments": {},
   "cell_type": "markdown",
   "metadata": {},
   "source": [
    "4. Create a class called Dice that has attribute sides (the number of sides on the dice). Add a method roll that generates a random number between 1 and the number of sides on the dice."
   ]
  },
  {
   "cell_type": "code",
   "execution_count": 5,
   "metadata": {},
   "outputs": [
    {
     "data": {
      "text/plain": [
       "1"
      ]
     },
     "execution_count": 5,
     "metadata": {},
     "output_type": "execute_result"
    }
   ],
   "source": [
    "import random\n",
    "class Dice:\n",
    "    def __init__(self, sides):\n",
    "        self.sides = sides\n",
    "    \n",
    "\n",
    "    def dice_roll(self):\n",
    "        return random.randint(1, self.sides)\n",
    "\n",
    "d_1 = Dice(6)\n",
    "d_1.dice_roll()        \n"
   ]
  },
  {
   "attachments": {},
   "cell_type": "markdown",
   "metadata": {},
   "source": [
    "5. Create a class called Temperature that has attribute celsius (a temperature in degrees Celsius). Add methods to_fahrenheit and to_kelvin that convert the temperature to degrees Fahrenheit and Kelvin, respectively."
   ]
  },
  {
   "cell_type": "code",
   "execution_count": 8,
   "metadata": {},
   "outputs": [
    {
     "name": "stdout",
     "output_type": "stream",
     "text": [
      "68.0\n",
      "293.15\n"
     ]
    }
   ],
   "source": [
    "class Temperature:\n",
    "    def __init__(self, degrees):\n",
    "        self.degrees = degrees\n",
    "\n",
    "\n",
    "    def to_farenheit(self):\n",
    "        farenheit_ = (self.degrees *9/5) +32\n",
    "        print(farenheit_)  \n",
    "\n",
    "\n",
    "    def to_kelvin(self):\n",
    "        kelvin_ = self.degrees + 273.15\n",
    "        print(kelvin_)\n",
    "\n",
    "temp_1 = Temperature(20)\n",
    "temp_1.to_farenheit()\n",
    "temp_1.to_kelvin()              "
   ]
  },
  {
   "attachments": {},
   "cell_type": "markdown",
   "metadata": {},
   "source": [
    "6. Create a class called Book that has attributes title, author, and publication_year. Add a method get_age that calculates how many years ago the book was published."
   ]
  },
  {
   "cell_type": "code",
   "execution_count": 6,
   "metadata": {},
   "outputs": [
    {
     "name": "stdout",
     "output_type": "stream",
     "text": [
      "This book has been published 18 years ago.\n"
     ]
    }
   ],
   "source": [
    "from datetime import date\n",
    "todays_date = date.today()\n",
    "current_year = todays_date.year \n",
    "\n",
    "class Book:\n",
    "    def __init__(self, author, title, publishing_year):\n",
    "        self.author = author\n",
    "        self.title = title\n",
    "        self.publishing_year = publishing_year\n",
    "\n",
    "    def get_age(self):\n",
    "        age_ = current_year - self.publishing_year\n",
    "        print(f\"This book has been published {age_} years ago.\")\n",
    "\n",
    "b_1 = Book(\"Viktor Frankl\", \"Man's search for meaning\", 2005)\n",
    "b_1.get_age()    \n",
    "\n"
   ]
  },
  {
   "attachments": {},
   "cell_type": "markdown",
   "metadata": {},
   "source": [
    "7. Create a class called Rectangle that has attributes width and height. Add methods __str__ and __repr__ that return a string representation of the rectangle object."
   ]
  },
  {
   "cell_type": "code",
   "execution_count": 10,
   "metadata": {},
   "outputs": [
    {
     "name": "stdout",
     "output_type": "stream",
     "text": [
      "Rectangle with a width of 5 and a height of 4\n",
      "Rectangle\n",
      " width 5\n",
      " height 4\n"
     ]
    }
   ],
   "source": [
    "class Rectangle:\n",
    "    def __init__(self, width, height):\n",
    "        self.height = height\n",
    "        self.width = width\n",
    "\n",
    "    def __str__(self):\n",
    "        print(f\"Rectangle with a width of {self.width} and a height of {self.height}\")\n",
    "\n",
    "    def __repr__(self):\n",
    "        print(f\"Rectangle\\n width {self.width}\\n height {self.height}\")\n",
    "\n",
    "r_2 = Rectangle(5,4)\n",
    "r_2.__str__()\n",
    "r_2.__repr__()"
   ]
  }
 ],
 "metadata": {
  "kernelspec": {
   "display_name": "Python 3",
   "language": "python",
   "name": "python3"
  },
  "language_info": {
   "codemirror_mode": {
    "name": "ipython",
    "version": 3
   },
   "file_extension": ".py",
   "mimetype": "text/x-python",
   "name": "python",
   "nbconvert_exporter": "python",
   "pygments_lexer": "ipython3",
   "version": "3.8.16"
  },
  "orig_nbformat": 4
 },
 "nbformat": 4,
 "nbformat_minor": 2
}
