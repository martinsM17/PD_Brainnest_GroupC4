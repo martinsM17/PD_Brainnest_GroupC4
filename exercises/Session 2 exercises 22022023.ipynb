{
 "cells": [
  {
   "cell_type": "code",
   "execution_count": 31,
   "metadata": {},
   "outputs": [
    {
     "ename": "SyntaxError",
     "evalue": "invalid syntax (2882489794.py, line 1)",
     "output_type": "error",
     "traceback": [
      "\u001b[0;36m  Cell \u001b[0;32mIn[31], line 1\u001b[0;36m\u001b[0m\n\u001b[0;31m    Exercise 1: Write a program which repeatedly reads numbers until the\u001b[0m\n\u001b[0m             ^\u001b[0m\n\u001b[0;31mSyntaxError\u001b[0m\u001b[0;31m:\u001b[0m invalid syntax\n"
     ]
    }
   ],
   "source": [
    "Exercise 1: Write a program which repeatedly reads numbers until the\n",
    "user enters `done`. Once `done` is entered, print out the total, count,\n",
    "and average of the numbers. If the user enters anything other than a\n",
    "number, detect their mistake using try and except and print an error\n",
    "message and skip to the next number.\n",
    "\n",
    "output:\n",
    "Enter a number: 4\n",
    "Enter a number: 5\n",
    "Enter a number: bad data\n",
    "Invalid input\n",
    "Enter a number: 7\n",
    "Enter a number: done\n",
    "16 3 5.333333333333333\n",
    "\n",
    "\n",
    "from statistics import mean\n",
    "functions to be used: sum(), len(), mean()"
   ]
  },
  {
   "cell_type": "code",
   "execution_count": 4,
   "metadata": {},
   "outputs": [
    {
     "name": "stdout",
     "output_type": "stream",
     "text": [
      "Please enter only numbers!\n",
      "Please enter only numbers!\n",
      "Number out of range. Please enter a number between 0 - 9.\n",
      "Sum: 40, Count: 11, Mean: 3.6363636363636362\n"
     ]
    }
   ],
   "source": [
    "from statistics import mean\n",
    "\n",
    "def count(r_i):\n",
    "    return len(r_i) # defining count function\n",
    "\n",
    "def sum_(r_i): # defined sum function\n",
    "    return sum(r_i)\n",
    "\n",
    "def mean_(r_i): # defined mean function\n",
    "    return mean(r_i) \n",
    "\n",
    "def number_reader():\n",
    "    r_i = [] # create an empty list to store the numbers\n",
    "    while True:\n",
    "        user_input = input(\"Please enter a number between 0 - 9 or 'done' to finish: \")\n",
    "        if user_input == \"done\":\n",
    "            break\n",
    "        try:\n",
    "            number = int(user_input)\n",
    "            if number in range(10):\n",
    "                r_i.append(number) # add the number to the list\n",
    "            else:\n",
    "                print(\"Number out of range. Please enter a number between 0 - 9.\")\n",
    "        except ValueError:\n",
    "            print(\"Please enter only numbers!\")\n",
    "    print(f\"Sum: {sum_(r_i)}, Count: {count(r_i)}, Mean: {mean_(r_i)}\")\n",
    "\n",
    "number_reader()\n"
   ]
  },
  {
   "attachments": {},
   "cell_type": "markdown",
   "metadata": {},
   "source": [
    "Pay computation function"
   ]
  },
  {
   "cell_type": "code",
   "execution_count": 18,
   "metadata": {},
   "outputs": [
    {
     "name": "stdout",
     "output_type": "stream",
     "text": [
      "Your payment will be :\n"
     ]
    },
    {
     "data": {
      "text/plain": [
       "360"
      ]
     },
     "execution_count": 18,
     "metadata": {},
     "output_type": "execute_result"
    }
   ],
   "source": [
    "def pay_calc(hours, rate):\n",
    "    try:\n",
    "        return hours * rate\n",
    "    except TypeError:\n",
    "        print(\"Only numbers please!\")\n",
    "print(\"Your payment will be :\")\n",
    "        \n",
    "pay_calc(24,15)    "
   ]
  },
  {
   "attachments": {},
   "cell_type": "markdown",
   "metadata": {},
   "source": [
    "Computegrade function"
   ]
  },
  {
   "cell_type": "code",
   "execution_count": 59,
   "metadata": {},
   "outputs": [
    {
     "name": "stdout",
     "output_type": "stream",
     "text": [
      "F\n"
     ]
    }
   ],
   "source": [
    "def computegrade():\n",
    "    try:\n",
    "        user_input = float(input(\"Please enter your grade: \"))\n",
    "        if user_input >= 0.9:\n",
    "            print(\"A\")\n",
    "        elif user_input >= 0.8:\n",
    "            print(\"B\")\n",
    "        elif user_input >= 0.7:\n",
    "            print(\"C\")\n",
    "        elif user_input >= 0.6:\n",
    "            print(\"D\")\n",
    "        elif user_input < 0.6:\n",
    "            print(\"F\")\n",
    "    except ValueError:\n",
    "        print(\"Only numbers please!\")\n",
    "\n",
    "# Call the function\n",
    "computegrade()"
   ]
  }
 ],
 "metadata": {
  "kernelspec": {
   "display_name": "Python 3",
   "language": "python",
   "name": "python3"
  },
  "language_info": {
   "codemirror_mode": {
    "name": "ipython",
    "version": 3
   },
   "file_extension": ".py",
   "mimetype": "text/x-python",
   "name": "python",
   "nbconvert_exporter": "python",
   "pygments_lexer": "ipython3",
   "version": "3.8.16 (default, Jan 10 2023, 15:23:34) \n[GCC 9.4.0]"
  },
  "orig_nbformat": 4,
  "vscode": {
   "interpreter": {
    "hash": "9ac03a0a6051494cc606d484d27d20fce22fb7b4d169f583271e11d5ba46a56e"
   }
  }
 },
 "nbformat": 4,
 "nbformat_minor": 2
}
