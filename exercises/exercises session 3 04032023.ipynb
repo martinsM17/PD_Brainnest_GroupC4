{
 "cells": [
  {
   "cell_type": "code",
   "execution_count": null,
   "metadata": {},
   "outputs": [],
   "source": [
    "1.\n",
    "write a function that yields the first 10 prime numbers.\n",
    "\n",
    "Tips:\n",
    "\tyou need 2 functions (is_prime() and prime_numbers(n)) \n",
    "\t\n",
    "prime_generator = prime_numbers(10)\n",
    "print(list(prime_generator))\n",
    "\n",
    "# output should be:\n",
    "[2, 3, 5, 7, 11, 13, 17, 19, 23, 29]"
   ]
  },
  {
   "attachments": {},
   "cell_type": "markdown",
   "metadata": {},
   "source": [
    "1.\n",
    "write a function named greet(func)\n",
    "\n",
    "inside greet(func) create another function that does the following:\n",
    "\t1. print something\n",
    "\t2. a variable that uses func to access different arguments (*args)\n",
    "\n",
    "define another function called say_hello() which prints something\n",
    "and by calling say_hello() at the end, also the greet(func) should be\n",
    "provoked."
   ]
  },
  {
   "cell_type": "code",
   "execution_count": 7,
   "metadata": {},
   "outputs": [
    {
     "name": "stdout",
     "output_type": "stream",
     "text": [
      "Greetings from the inner function!\n",
      "Greetings!\n"
     ]
    }
   ],
   "source": [
    "def greet(func):\n",
    "    def inside(*args):\n",
    "        print(\"Greetings from the inner function!\")\n",
    "        func(*args)\n",
    "    return inside\n",
    "\n",
    "def say_hello():\n",
    "    print(\"Greetings!\")\n",
    "\n",
    "greet(say_hello)()\n"
   ]
  },
  {
   "attachments": {},
   "cell_type": "markdown",
   "metadata": {},
   "source": [
    "\n",
    "write a function called authorize(func)\n",
    "define a wrapper (func inside another func) inside and return\n",
    "\"Unathorized access\" if not authorized.\n",
    "define another function to check whether authorized or not. (True or False)\n",
    "define the last function named secret_data() \n",
    "to say \"This is confidential data\" if user is authorized.\n",
    "By calling secret_data you should see if the data is confidential or \n",
    "you will provoke the other function that says \"Unauthorized access\"."
   ]
  },
  {
   "cell_type": "code",
   "execution_count": 9,
   "metadata": {},
   "outputs": [],
   "source": [
    "def authorize(func):\n",
    "    def inside():\n",
    "        if authorized == False:\n",
    "            print(\"Unauthorized access\")\n",
    "    return inside\n",
    "    def authorized(boolean):\n",
    "        if authorized == True:\n",
    "            print(\"Authorized\")\n",
    "        else:\n",
    "            return inside()\n",
    "def secret_data(authorized):\n",
    "    if authorized == True:\n",
    "        print(\"This is confidential data\")\n",
    "    else:\n",
    "        print(inside())    \n"
   ]
  },
  {
   "attachments": {},
   "cell_type": "markdown",
   "metadata": {},
   "source": [
    "3.\n",
    "write a function called validate(func), define a wrapper inside,\n",
    "see if arguments were not integer, return and error.\n",
    "define a function called add(a, b).\n",
    "when calling the func add() in the end, if the args are integers return \n",
    "the sum, if even one of them in str, return that error you defined in the\n",
    "first function."
   ]
  },
  {
   "cell_type": "code",
   "execution_count": 17,
   "metadata": {},
   "outputs": [
    {
     "name": "stdout",
     "output_type": "stream",
     "text": [
      "5\n"
     ]
    }
   ],
   "source": [
    "def validate(func):\n",
    "    def wrapper(*args):\n",
    "        for arg in args:\n",
    "            if not isinstance(arg, int):\n",
    "                return \"Error: Arguments must be integers\"\n",
    "        return func(*args)\n",
    "    return wrapper\n",
    "@validate\n",
    "def add(a, b):\n",
    "    return a + b  \n",
    "\n",
    "a = 2\n",
    "b = 3\n",
    "result = add(a,b)\n",
    "print(result)"
   ]
  }
 ],
 "metadata": {
  "kernelspec": {
   "display_name": "Python 3",
   "language": "python",
   "name": "python3"
  },
  "language_info": {
   "codemirror_mode": {
    "name": "ipython",
    "version": 3
   },
   "file_extension": ".py",
   "mimetype": "text/x-python",
   "name": "python",
   "nbconvert_exporter": "python",
   "pygments_lexer": "ipython3",
   "version": "3.8.16"
  },
  "orig_nbformat": 4
 },
 "nbformat": 4,
 "nbformat_minor": 2
}
