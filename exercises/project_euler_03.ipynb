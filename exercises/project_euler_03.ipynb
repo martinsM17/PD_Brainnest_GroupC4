{
 "cells": [
  {
   "attachments": {},
   "cell_type": "markdown",
   "metadata": {},
   "source": [
    "1. \n",
    "\n",
    "In the United Kingdom the currency is made up of pound (£) and pence (p). There are eight coins in general circulation:\n",
    "\n",
    "    1p, 2p, 5p, 10p, 20p, 50p, £1 (100p), and £2 (200p).\n",
    "\n",
    "It is possible to make £2 in the following way:\n",
    "\n",
    "    1×£1 + 1×50p + 2×20p + 1×5p + 1×2p + 3×1p\n",
    "\n",
    "How many different ways can £2 be made using any number of coins?\n"
   ]
  },
  {
   "cell_type": "code",
   "execution_count": null,
   "metadata": {},
   "outputs": [],
   "source": [
    "# Initialize a list of coin values\n",
    "coin_values = [1, 2, 5, 10, 20, 50, 100, 200]\n",
    "\n",
    "# Initialize a list of length 201 with the first element set to 1 and the rest to 0\n",
    "# The index i of this list represents a target sum, and the value at index i represents the number of ways to make that sum using the available coins\n",
    "num_ways = [1] + [0]*200\n",
    "\n",
    "# Loop through all coin values\n",
    "for coin in coin_values:\n",
    "    # Loop through all possible target sums i, starting from the coin value\n",
    "    for i in range(coin, 201):\n",
    "        # Add the number of ways to make the sum i-coin to the number of ways to make the sum i\n",
    "        num_ways[i] += num_ways[i-coin]\n",
    "\n",
    "# The last element of the num_ways list represents the number of ways to make a sum of 200 using the available coins\n",
    "print(num_ways[200])\n",
    "\n"
   ]
  },
  {
   "attachments": {},
   "cell_type": "markdown",
   "metadata": {},
   "source": [
    "2. \n",
    "\n",
    "We shall say that an n-digit number is pandigital if it makes use of all the digits 1 to n exactly once; for example, the 5-digit number, 15234, is 1 through 5 pandigital.\n",
    "\n",
    "The product 7254 is unusual, as the identity, 39 × 186 = 7254, containing multiplicand, multiplier, and product is 1 through 9 pandigital.\n",
    "\n",
    "Find the sum of all products whose multiplicand/multiplier/product identity can be written as a 1 through 9 pandigital.\n",
    "HINT: Some products can be obtained in more than one way so be sure to only include it once in your sum.\n"
   ]
  },
  {
   "cell_type": "code",
   "execution_count": null,
   "metadata": {},
   "outputs": [],
   "source": [
    "# Initialize an empty set to hold the products that satisfy the condition\n",
    "products = set()\n",
    "\n",
    "# Loop through all possible values of the multiplicand i\n",
    "# The upper bound of the range is 100, since we want i to be a two-digit number\n",
    "for i in range(1, 100):\n",
    "    # Loop through all possible values of the multiplier j\n",
    "    # The upper bound of the range is 10000 // i, since the product i*j should be a four-digit number\n",
    "    for j in range(1, 10000 // i):\n",
    "        # Concatenate i, j, and i*j into a single string\n",
    "        product_str = str(i) + str(j) + str(i*j)\n",
    "        # Check if the concatenated string is pandigital\n",
    "        # i.e., contains all digits from 1 to 9 exactly once\n",
    "        if len(product_str) == 9 and set(product_str) == set('123456789'):\n",
    "            # If the product is pandigital, add it to the set of products\n",
    "            products.add(i*j)\n",
    "\n",
    "# Compute the sum of all products in the set\n",
    "print(sum(products))\n",
    "\n"
   ]
  },
  {
   "attachments": {},
   "cell_type": "markdown",
   "metadata": {},
   "source": [
    "3. \n",
    "\n",
    "The fraction 49/98 is a curious fraction, as an inexperienced mathematician in attempting to simplify it may incorrectly believe that 49/98 = 4/8, which is correct, is obtained by cancelling the 9s.\n",
    "\n",
    "We shall consider fractions like, 30/50 = 3/5, to be trivial examples.\n",
    "\n",
    "There are exactly four non-trivial examples of this type of fraction, less than one in value, and containing two digits in the numerator and denominator.\n",
    "\n",
    "If the product of these four fractions is given in its lowest common terms, find the value of the denominator.\n"
   ]
  },
  {
   "cell_type": "code",
   "execution_count": 2,
   "metadata": {},
   "outputs": [
    {
     "name": "stdout",
     "output_type": "stream",
     "text": [
      "5576528032719598973919363637619121990565625856\n"
     ]
    }
   ],
   "source": [
    "from fractions import Fraction  # Import the Fraction class from the fractions module\n",
    "\n",
    "examples = []  # Create an empty list to hold the non-trivial examples\n",
    "\n",
    "# Iterate through all possible values of A, B, and C\n",
    "for A in range(1, 10):\n",
    "    for B in range(A+1, 10):\n",
    "        for C in range(B+1, 10):\n",
    "            # Check whether AB/BC is equal to A/C and exclude trivial examples\n",
    "            if A*C*B == B*C*A and A != B and B != C:\n",
    "                # Add the fraction A/C to the list of non-trivial examples\n",
    "                examples.append(Fraction(A, C))\n",
    "\n",
    "# Compute the product of the non-trivial examples\n",
    "product = 1\n",
    "for example in examples:\n",
    "    product *= example\n",
    "\n",
    "# Print the denominator of the product in lowest terms\n",
    "print(product.denominator)\n"
   ]
  },
  {
   "attachments": {},
   "cell_type": "markdown",
   "metadata": {},
   "source": [
    "4. \n",
    "\n",
    "145 is a curious number, as 1! + 4! + 5! = 1 + 24 + 120 = 145.\n",
    "\n",
    "Find the sum of all numbers which are equal to the sum of the factorial of their digits.\n",
    "\n",
    "Note: As 1! = 1 and 2! = 2 are not sums they are not included.\n"
   ]
  },
  {
   "cell_type": "code",
   "execution_count": null,
   "metadata": {},
   "outputs": [],
   "source": [
    "from math import factorial\n",
    "\n",
    "def sum_of_factorial_of_digits(n):\n",
    "    \"\"\"Returns the sum of the factorials of the digits of n.\"\"\"\n",
    "    return sum(factorial(int(digit)) for digit in str(n))\n",
    "\n",
    "upper_bound = 7 * factorial(9)  # Largest possible value for a 7-digit number\n",
    "curious_numbers = []\n",
    "for i in range(10, upper_bound):\n",
    "    if i == sum_of_factorial_of_digits(i):\n",
    "        curious_numbers.append(i)\n",
    "\n",
    "print(sum(curious_numbers))\n"
   ]
  },
  {
   "attachments": {},
   "cell_type": "markdown",
   "metadata": {},
   "source": [
    "5. \n",
    "\n",
    "The number, 197, is called a circular prime because all rotations of the digits: 197, 971, and 719, are themselves prime.\n",
    "\n",
    "There are thirteen such primes below 100: 2, 3, 5, 7, 11, 13, 17, 31, 37, 71, 73, 79, and 97.\n",
    "\n",
    "How many circular primes are there below one million?\n"
   ]
  },
  {
   "cell_type": "code",
   "execution_count": 3,
   "metadata": {},
   "outputs": [
    {
     "name": "stdout",
     "output_type": "stream",
     "text": [
      "55\n"
     ]
    }
   ],
   "source": [
    "def is_prime(n):\n",
    "    \"\"\"Checks if a number is prime\"\"\"\n",
    "    if n < 2:\n",
    "        return False\n",
    "    for i in range(2, int(n**0.5)+1):\n",
    "        if n % i == 0:\n",
    "            return False\n",
    "    return True\n",
    "\n",
    "def is_circular_prime(n):\n",
    "    \"\"\"Checks if a number is a circular prime\"\"\"\n",
    "    n_str = str(n)\n",
    "    for i in range(len(n_str)):\n",
    "        rotated_str = n_str[i:] + n_str[:i]  # Rotate the string\n",
    "        if not is_prime(int(rotated_str)):  # Check if the rotated number is prime\n",
    "            return False\n",
    "    return True\n",
    "\n",
    "count = 0\n",
    "for i in range(2, 1000000):\n",
    "    if is_circular_prime(i):\n",
    "        count += 1\n",
    "\n",
    "print(count)\n"
   ]
  }
 ],
 "metadata": {
  "kernelspec": {
   "display_name": "Python 3",
   "language": "python",
   "name": "python3"
  },
  "language_info": {
   "codemirror_mode": {
    "name": "ipython",
    "version": 3
   },
   "file_extension": ".py",
   "mimetype": "text/x-python",
   "name": "python",
   "nbconvert_exporter": "python",
   "pygments_lexer": "ipython3",
   "version": "3.8.16"
  },
  "orig_nbformat": 4
 },
 "nbformat": 4,
 "nbformat_minor": 2
}
