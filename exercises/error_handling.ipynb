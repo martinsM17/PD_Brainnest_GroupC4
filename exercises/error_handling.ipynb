{
 "cells": [
  {
   "attachments": {},
   "cell_type": "markdown",
   "metadata": {},
   "source": [
    "1. Write a function that takes a list of integers as an argument, and returns the sum of the integers. Use a try-except block to catch any ValueError exceptions that may be raised when attempting to convert a string to an integer."
   ]
  },
  {
   "cell_type": "code",
   "execution_count": 21,
   "metadata": {},
   "outputs": [
    {
     "name": "stdout",
     "output_type": "stream",
     "text": [
      "The sum of integers for ['2', '1', '4', '5', '12', '52', '63', '42', '14', '62'] is 257\n"
     ]
    }
   ],
   "source": [
    "list = [\"2\",\"1\",\"4\",\"5\",\"12\",\"52\",\"63\",\"42\",\"14\",\"62\"]\n",
    "\n",
    "\"\"\"\n",
    "Function that returns the sum of a list of integers\n",
    "\"\"\"\n",
    "\n",
    "def int_sum(list):\n",
    "    sum = 0\n",
    "    for i in list:\n",
    "        try:\n",
    "            sum+=int(i)\n",
    "        except ValueError:\n",
    "            pass\n",
    "    return sum\n",
    "\n",
    "list_sum = int_sum(list)\n",
    "print(f\"The sum of integers for {list} is {list_sum}\")          \n",
    "\n"
   ]
  },
  {
   "attachments": {},
   "cell_type": "markdown",
   "metadata": {},
   "source": [
    "2. Write a function that takes a filename as an argument, and attempts to open the file. Use a try-except block to catch any FileNotFoundError exceptions that may be raised when attempting to open the file. If the file is successfully opened, the function should return the contents of the file."
   ]
  },
  {
   "cell_type": "code",
   "execution_count": 60,
   "metadata": {},
   "outputs": [],
   "source": [
    "\"\"\"\n",
    "Function that takes the filename as argument and opens the file with a try-except block to catch any FileNotFoundErrors\n",
    "\"\"\"\n",
    "def file_opener(filename):\n",
    "        try:\n",
    "            file = open('missing.txt')\n",
    "            print('File exists')\n",
    "        except FileNotFoundError as e:\n",
    "            print('File does not exist:', e)\n",
    "        except Exception as e:\n",
    "            print('An error occurred:', e)\n",
    "        else:\n",
    "            print(file.read())\n",
    "            file.close()\n"
   ]
  },
  {
   "attachments": {},
   "cell_type": "markdown",
   "metadata": {},
   "source": [
    "3. Write a function that takes a list of strings as an argument, and returns a new list containing only the strings that can be successfully converted to a float. Use a try-except block to catch any ValueError exceptions that may be raised when attempting to convert a string to a float."
   ]
  },
  {
   "cell_type": "code",
   "execution_count": 75,
   "metadata": {},
   "outputs": [
    {
     "name": "stdout",
     "output_type": "stream",
     "text": [
      "The requested floats from ['1', 'string', '50', 'string', '10,5', '2.5'] are [1.0, 50.0, 2.5]\n"
     ]
    }
   ],
   "source": [
    "strings = [\"1\", \"string\", \"50\", \"string\", \"10,5\", \"2.5\"]\n",
    "\"\"\"\n",
    "function that takes a list of strings as an argument, and returns a new list containing only the strings that can be successfully converted to a float\n",
    "\"\"\"\n",
    "\n",
    "def get_floats(strings):\n",
    "    f = []\n",
    "    for i in strings:\n",
    "        try:\n",
    "            f.append(float(i))\n",
    "        except ValueError:\n",
    "            pass\n",
    "    return floats\n",
    "f = get_floats(strings)\n",
    "print(f\"The requested floats from {strings} are {f}\")"
   ]
  },
  {
   "attachments": {},
   "cell_type": "markdown",
   "metadata": {},
   "source": [
    "4. Write a function that takes a list of dictionaries as an argument, and returns the value of a specified key from each dictionary. Use a try-except block to catch any KeyError exceptions that may be raised when attempting to access a key that does not exist in a dictionary."
   ]
  },
  {
   "cell_type": "code",
   "execution_count": 77,
   "metadata": {},
   "outputs": [
    {
     "name": "stdout",
     "output_type": "stream",
     "text": [
      "[15, 45, 50]\n",
      "['Massachussetts', 'Washington']\n"
     ]
    }
   ],
   "source": [
    "dicts = [{'name': 'Python', 'age': 15}, {'name': 'Java', 'age': 45, 'location': 'Massachussetts'}, {'name': 'C++', 'age': 50, 'location': 'Washington'}]\n",
    "\n",
    "\"\"\"\n",
    "Function that takes a list of dictionaries as an argument, and returns the value of a specified key from each dictionary\n",
    "\"\"\"\n",
    "\n",
    "def get_values(dicts, key):\n",
    "    v = []\n",
    "    for d in dicts:\n",
    "        try:\n",
    "            v.append(d[key])\n",
    "        except KeyError:\n",
    "            pass\n",
    "    return v\n",
    "\n",
    "\n",
    "v1 = get_values(dicts, 'age')\n",
    "v2 = get_values(dicts, 'location')\n",
    "print(v1)\n",
    "print(v2)\n"
   ]
  },
  {
   "attachments": {},
   "cell_type": "markdown",
   "metadata": {},
   "source": [
    "5. Write a function that takes a list of integers as an argument, and returns the largest integer in the list. Use a try-except block to catch any ValueError exceptions that may be raised when attempting to compare elements that are not integers."
   ]
  },
  {
   "cell_type": "code",
   "execution_count": 19,
   "metadata": {},
   "outputs": [
    {
     "name": "stdout",
     "output_type": "stream",
     "text": [
      "The largest integer in [1, 5, 7, 23, 62, 155, 78, 50, 'string'] is 155\n"
     ]
    }
   ],
   "source": [
    "x = [1, 5, 7, 23, 62, 155, 78, 50, \"string\"]\n",
    "\n",
    "def get_largest_int(x):\n",
    "    largest_num = None\n",
    "    for num in x:\n",
    "        if isinstance(num, int) and (largest_num is None or num > largest_num):\n",
    "            largest_num = num\n",
    "    return largest_num\n",
    "\n",
    "print(f\"The largest integer in {x} is {get_largest_int(x)}\")"
   ]
  }
 ],
 "metadata": {
  "kernelspec": {
   "display_name": "Python 3",
   "language": "python",
   "name": "python3"
  },
  "language_info": {
   "codemirror_mode": {
    "name": "ipython",
    "version": 3
   },
   "file_extension": ".py",
   "mimetype": "text/x-python",
   "name": "python",
   "nbconvert_exporter": "python",
   "pygments_lexer": "ipython3",
   "version": "3.8.16"
  },
  "orig_nbformat": 4,
  "vscode": {
   "interpreter": {
    "hash": "9ac03a0a6051494cc606d484d27d20fce22fb7b4d169f583271e11d5ba46a56e"
   }
  }
 },
 "nbformat": 4,
 "nbformat_minor": 2
}
