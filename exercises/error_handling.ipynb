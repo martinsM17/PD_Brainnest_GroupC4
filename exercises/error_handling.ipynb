{
 "cells": [
  {
   "attachments": {},
   "cell_type": "markdown",
   "metadata": {},
   "source": [
    "1. Write a function that takes a list of integers as an argument, and returns the sum of the integers. Use a try-except block to catch any ValueError exceptions that may be raised when attempting to convert a string to an integer."
   ]
  },
  {
   "cell_type": "code",
   "execution_count": 21,
   "metadata": {},
   "outputs": [
    {
     "name": "stdout",
     "output_type": "stream",
     "text": [
      "The sum of integers for ['2', '1', '4', '5', '12', '52', '63', '42', '14', '62'] is 257\n"
     ]
    }
   ],
   "source": [
    "list = [\"2\",\"1\",\"4\",\"5\",\"12\",\"52\",\"63\",\"42\",\"14\",\"62\"]\n",
    "\n",
    "\"\"\"\n",
    "Function that returns the sum of a list of integers\n",
    "\"\"\"\n",
    "\n",
    "def int_sum(list):\n",
    "    sum = 0\n",
    "    for i in list:\n",
    "        try:\n",
    "            sum+=int(i)\n",
    "        except ValueError:\n",
    "            pass\n",
    "    return sum\n",
    "\n",
    "list_sum = int_sum(list)\n",
    "print(f\"The sum of integers for {list} is {list_sum}\")          \n",
    "\n"
   ]
  },
  {
   "attachments": {},
   "cell_type": "markdown",
   "metadata": {},
   "source": [
    "2. Write a function that takes a filename as an argument, and attempts to open the file. Use a try-except block to catch any FileNotFoundError exceptions that may be raised when attempting to open the file. If the file is successfully opened, the function should return the contents of the file."
   ]
  },
  {
   "cell_type": "code",
   "execution_count": 69,
   "metadata": {},
   "outputs": [
    {
     "name": "stdout",
     "output_type": "stream",
     "text": [
      "['1', '5', '50', 'string']\n"
     ]
    }
   ],
   "source": [
    "\"\"\"\n",
    "Function that takes the filename as argument and opens the file\n",
    "\"\"\"\n",
    "\n",
    "def open_file(x):\n",
    "    try:\n",
    "        open(filename,\"r\")\n",
    "        contents = x.read()\n",
    "    except FileNotFoundError:\n",
    "        print(f\"Error: {filename} not found!\")\n",
    "    return None\n",
    "print(x)"
   ]
  },
  {
   "attachments": {},
   "cell_type": "markdown",
   "metadata": {},
   "source": [
    "3. Write a function that takes a list of strings as an argument, and returns a new list containing only the strings that can be successfully converted to a float. Use a try-except block to catch any ValueError exceptions that may be raised when attempting to convert a string to a float."
   ]
  },
  {
   "cell_type": "code",
   "execution_count": null,
   "metadata": {},
   "outputs": [],
   "source": []
  },
  {
   "attachments": {},
   "cell_type": "markdown",
   "metadata": {},
   "source": [
    "4. Write a function that takes a list of dictionaries as an argument, and returns the value of a specified key from each dictionary. Use a try-except block to catch any KeyError exceptions that may be raised when attempting to access a key that does not exist in a dictionary."
   ]
  },
  {
   "cell_type": "code",
   "execution_count": null,
   "metadata": {},
   "outputs": [],
   "source": []
  },
  {
   "attachments": {},
   "cell_type": "markdown",
   "metadata": {},
   "source": [
    "5. Write a function that takes a list of integers as an argument, and returns the largest integer in the list. Use a try-except block to catch any ValueError exceptions that may be raised when attempting to compare elements that are not integers."
   ]
  },
  {
   "cell_type": "code",
   "execution_count": 68,
   "metadata": {},
   "outputs": [
    {
     "name": "stdout",
     "output_type": "stream",
     "text": [
      "The largest integer in ['1', '5', '50', 'string'] is string\n"
     ]
    }
   ],
   "source": [
    "x = [\"1\", \"5\", \"50\", \"string\"]\n",
    "\n",
    "\"\"\"\n",
    "Function that returns the largest integer from a list\n",
    "\"\"\"\n",
    "\n",
    "def largest_num(x):\n",
    "    try:\n",
    "        for i in x:            \n",
    "            return max(x)\n",
    "    except ValueError:\n",
    "            print(f\"Element is not an integer!\")\n",
    "            return None\n",
    "print(f\"The largest integer in {x} is {largest_num(x)}\")    \n"
   ]
  }
 ],
 "metadata": {
  "kernelspec": {
   "display_name": "Python 3",
   "language": "python",
   "name": "python3"
  },
  "language_info": {
   "codemirror_mode": {
    "name": "ipython",
    "version": 3
   },
   "file_extension": ".py",
   "mimetype": "text/x-python",
   "name": "python",
   "nbconvert_exporter": "python",
   "pygments_lexer": "ipython3",
   "version": "3.8.16"
  },
  "orig_nbformat": 4,
  "vscode": {
   "interpreter": {
    "hash": "9ac03a0a6051494cc606d484d27d20fce22fb7b4d169f583271e11d5ba46a56e"
   }
  }
 },
 "nbformat": 4,
 "nbformat_minor": 2
}
