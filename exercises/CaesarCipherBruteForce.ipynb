{
 "cells": [
  {
   "cell_type": "code",
   "execution_count": 1,
   "metadata": {},
   "outputs": [
    {
     "ename": "SyntaxError",
     "evalue": "invalid syntax (1053405947.py, line 1)",
     "output_type": "error",
     "traceback": [
      "\u001b[0;36m  Cell \u001b[0;32mIn[1], line 1\u001b[0;36m\u001b[0m\n\u001b[0;31m    Caesar Cipher Brute force decrypter\u001b[0m\n\u001b[0m           ^\u001b[0m\n\u001b[0;31mSyntaxError\u001b[0m\u001b[0;31m:\u001b[0m invalid syntax\n"
     ]
    }
   ],
   "source": [
    "Caesar Cipher Brute force decrypter"
   ]
  },
  {
   "cell_type": "code",
   "execution_count": 10,
   "metadata": {},
   "outputs": [
    {
     "name": "stdout",
     "output_type": "stream",
     "text": [
      "Shift 0: Ftue mofgmxxk iadwe Ndgfge\n",
      "Shift 1: Estd lneflwwj hzcvd Mcfefd\n",
      "Shift 2: Drsc kmdekvvi gybuc Lbedec\n",
      "Shift 3: Cqrb jlcdjuuh fxatb Kadcdb\n",
      "Shift 4: Bpqa ikbcittg ewzsa Jzcbca\n",
      "Shift 5: Aopz hjabhssf dvyrz Iybabz\n",
      "Shift 6: Znoy gizagrre cuxqy Hxazay\n",
      "Shift 7: Ymnx fhyzfqqd btwpx Gwzyzx\n",
      "Shift 8: Xlmw egxyeppc asvow Fvyxyw\n",
      "Shift 9: Wklv dfwxdoob zrunv Euxwxv\n",
      "Shift 10: Vjku cevwcnna yqtmu Dtwvwu\n",
      "Shift 11: Uijt bduvbmmz xpslt Csvuvt\n",
      "Shift 12: This actually works Brutus\n",
      "Shift 13: Sghr zbstzkkx vnqjr Aqtstr\n",
      "Shift 14: Rfgq yarsyjjw umpiq Zpsrsq\n",
      "Shift 15: Qefp xzqrxiiv tlohp Yorqrp\n",
      "Shift 16: Pdeo wypqwhhu skngo Xnqpqo\n",
      "Shift 17: Ocdn vxopvggt rjmfn Wmpopn\n",
      "Shift 18: Nbcm uwnouffs qilem Vlonom\n",
      "Shift 19: Mabl tvmnteer phkdl Uknmnl\n",
      "Shift 20: Lzak sulmsddq ogjck Tjmlmk\n",
      "Shift 21: Kyzj rtklrccp nfibj Silklj\n",
      "Shift 22: Jxyi qsjkqbbo mehai Rhkjki\n",
      "Shift 23: Iwxh prijpaan ldgzh Qgjijh\n",
      "Shift 24: Hvwg oqhiozzm kcfyg Pfihig\n",
      "Shift 25: Guvf npghnyyl jbexf Oehghf\n",
      "None\n"
     ]
    }
   ],
   "source": [
    "message = input(\"Please input the coded message: \")\n",
    "def brutus_message(message):\n",
    "    for shift in range(26):  # loop through all possible shifts\n",
    "        plaintext = ''\n",
    "        for char in message:\n",
    "            if not char.isalpha():  # ignore non-alphabetic characters\n",
    "                plaintext += char\n",
    "                continue\n",
    "\n",
    "            # shift the alphabetic characters\n",
    "            shifted_ascii = ord(char) - shift\n",
    "            if char.isupper():  # handle uppercase letters\n",
    "                shifted_ascii = (shifted_ascii - 65) % 26 + 65\n",
    "            else:  # handle lowercase letters\n",
    "                shifted_ascii = (shifted_ascii - 97) % 26 + 97\n",
    "            plaintext += chr(shifted_ascii)\n",
    "        \n",
    "        print(f'Shift {shift}: {plaintext}')\n",
    "result = caesar_cipher_breaker(message)\n",
    "print(result)        \n"
   ]
  }
 ],
 "metadata": {
  "kernelspec": {
   "display_name": "Python 3",
   "language": "python",
   "name": "python3"
  },
  "language_info": {
   "codemirror_mode": {
    "name": "ipython",
    "version": 3
   },
   "file_extension": ".py",
   "mimetype": "text/x-python",
   "name": "python",
   "nbconvert_exporter": "python",
   "pygments_lexer": "ipython3",
   "version": "3.8.16"
  },
  "orig_nbformat": 4
 },
 "nbformat": 4,
 "nbformat_minor": 2
}
