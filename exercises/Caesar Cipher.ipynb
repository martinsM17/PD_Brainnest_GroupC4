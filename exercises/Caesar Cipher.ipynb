{
 "cells": [
  {
   "cell_type": "code",
   "execution_count": null,
   "metadata": {},
   "outputs": [],
   "source": [
    "The Caesar cipher is an ancient encryption algorithm used by Julius Caesar. It \n",
    "encrypts letters by shifting them over by a \n",
    "certain number of places in the alphabet. We \n",
    "call the length of shift the key. For example, if the \n",
    "key is 3, then A becomes D, B becomes E, C becomes \n",
    "F, and so on. To decrypt the message, you must shift \n",
    "the encrypted letters in the opposite direction. This \n",
    "program lets the user encrypt and decrypt messages \n",
    "according to this algorithm.\n",
    "\n",
    "When you run the code, the output will look like this:\n",
    "\n",
    "Do you want to (e)ncrypt or (d)ecrypt?\n",
    "> e\n",
    "Please enter the key (0 to 25) to use.\n",
    "> 4\n",
    "Enter the message to encrypt.\n",
    "> Meet me by the rose bushes tonight.\n",
    "QIIX QI FC XLI VSWI FYWLIW XSRMKLX.\n",
    "\n",
    "\n",
    "Do you want to (e)ncrypt or (d)ecrypt?\n",
    "> d\n",
    "Please enter the key (0 to 26) to use.\n",
    "> 4\n",
    "Enter the message to decrypt.\n",
    "> QIIX QI FC XLI VSWI FYWLIW XSRMKLX.\n",
    "MEET ME BY THE ROSE BUSHES TONIGHT."
   ]
  },
  {
   "cell_type": "code",
   "execution_count": 56,
   "metadata": {},
   "outputs": [
    {
     "name": "stdout",
     "output_type": "stream",
     "text": [
      "Message to decrypt:  QIIX QI FC XLI VSWI FYWLIW XSRMKLX\n",
      "Decrypted message:  MEET ME BY THE ROSE BUSHES TONIGHT\n"
     ]
    }
   ],
   "source": [
    "# Prompt the user for inputs\n",
    "q1 = input(\"Do you want to (e)ncrypt or (d)ecrypt?: \")\n",
    "q2 = int(input(\"Please enter the key (0 to 25) to use: \"))\n",
    "message = input(\"Enter the message: \")\n",
    "\n",
    "# Define the encrypt function\n",
    "def encrypt(message, q2):\n",
    "    cipher = ''\n",
    "    if q1 == \"e\":  # check if user wants to encrypt\n",
    "        for char in message:\n",
    "            if char == ' ':  # preserve spaces\n",
    "                cipher = cipher + char  \n",
    "            elif char.isupper():  # handle uppercase letters\n",
    "                cipher = cipher + chr((ord(char) + q2 - 65) % 26 + 65)\n",
    "            else:  # handle lowercase letters\n",
    "                cipher = cipher + chr((ord(char) + q2 - 97) % 26 + 97)\n",
    "        return cipher.upper()\n",
    "\n",
    "# Define the decrypt function\n",
    "def decrypt(message, q2):\n",
    "    cipher = ''\n",
    "    inverse_key = (26 - q2) % 26  # calculate the inverse key value for decryption\n",
    "    if q1 == \"d\":  # check if user wants to decrypt\n",
    "        for char in message:\n",
    "            if char == ' ':  # preserve spaces\n",
    "                cipher = cipher + char  \n",
    "            elif char.isupper():  # handle uppercase letters\n",
    "                cipher = cipher + chr((ord(char) - inverse_key - 65) % 26 + 65)\n",
    "            else:  # handle lowercase letters\n",
    "                cipher = cipher + chr((ord(char) - inverse_key - 97) % 26 + 97)\n",
    "        return cipher\n",
    "\n",
    "# Check if user wants to encrypt or decrypt, and perform the corresponding operation\n",
    "if q1 == \"e\":\n",
    "    print(\"Message to encrypt: \", message)\n",
    "    print(\"Encrypted message: \", encrypt(message, q2))\n",
    "elif q1 == \"d\":\n",
    "    print(\"Message to decrypt: \", message)\n",
    "    print(\"Decrypted message: \", decrypt(message, inverse_key))\n",
    "else:\n",
    "    print(\"Invalid input. Please enter 'e' to encrypt or 'd' to decrypt.\")\n"
   ]
  }
 ],
 "metadata": {
  "kernelspec": {
   "display_name": "Python 3",
   "language": "python",
   "name": "python3"
  },
  "language_info": {
   "codemirror_mode": {
    "name": "ipython",
    "version": 3
   },
   "file_extension": ".py",
   "mimetype": "text/x-python",
   "name": "python",
   "nbconvert_exporter": "python",
   "pygments_lexer": "ipython3",
   "version": "3.8.16"
  },
  "orig_nbformat": 4,
  "vscode": {
   "interpreter": {
    "hash": "9ac03a0a6051494cc606d484d27d20fce22fb7b4d169f583271e11d5ba46a56e"
   }
  }
 },
 "nbformat": 4,
 "nbformat_minor": 2
}
