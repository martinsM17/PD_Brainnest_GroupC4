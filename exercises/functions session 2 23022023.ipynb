{
 "cells": [
  {
   "attachments": {},
   "cell_type": "markdown",
   "metadata": {},
   "source": [
    "1. Write a program that takes a list of numbers and returns the largest number in the list."
   ]
  },
  {
   "cell_type": "code",
   "execution_count": 1,
   "metadata": {},
   "outputs": [
    {
     "name": "stdout",
     "output_type": "stream",
     "text": [
      "9\n"
     ]
    }
   ],
   "source": [
    "numbers = [1, 2, 3, 4, 5, 6, 7, 8, 9]\n",
    "# output the largest number in a list\n",
    "print(max(numbers))"
   ]
  },
  {
   "attachments": {},
   "cell_type": "markdown",
   "metadata": {},
   "source": [
    "2. Write a program that takes a string and returns the number of vowels in the string."
   ]
  },
  {
   "cell_type": "code",
   "execution_count": 26,
   "metadata": {},
   "outputs": [
    {
     "name": "stdout",
     "output_type": "stream",
     "text": [
      "3\n"
     ]
    }
   ],
   "source": [
    "string = \"Hello, world!\"\n",
    "# Count the number of vowels in a string and print the count\n",
    "count_v = len([char for char in string if char in \"aeiouAEIOU\"])\n",
    "print(count_v)"
   ]
  },
  {
   "attachments": {},
   "cell_type": "markdown",
   "metadata": {},
   "source": [
    "3. Write a program that takes a list of strings and returns a new list that contains only the strings that start with the letter 'a'."
   ]
  },
  {
   "cell_type": "code",
   "execution_count": 31,
   "metadata": {},
   "outputs": [
    {
     "name": "stdout",
     "output_type": "stream",
     "text": [
      "['apple', 'accorn']\n"
     ]
    }
   ],
   "source": [
    "strings = [\"apple\", \"banana\", \"cherry\", \"date\", \"accorn\"]\n",
    "# Define a function named first_letter that takes a list of strings as input\n",
    "def first_letter(input_list):\n",
    "    # Create an empty list to store the strings that start with \"a\"\n",
    "    strings_ = []\n",
    "    # Iterate over each string in the input list\n",
    "    for s in input_list:\n",
    "        # Check if the string starts with \"a\"\n",
    "        if s.startswith(\"a\"):\n",
    "            # If the string starts with \"a\", add it to the strings_ list\n",
    "            strings_.append(s)\n",
    "    # Return the list containing strings that start with \"a\"\n",
    "    return strings_\n",
    "result = first_letter(strings)\n",
    "print(result)            \n"
   ]
  },
  {
   "attachments": {},
   "cell_type": "markdown",
   "metadata": {},
   "source": [
    "4. Write a program that takes a sentence (string) and returns a dictionary with the count of each word in the sentence."
   ]
  },
  {
   "cell_type": "code",
   "execution_count": 30,
   "metadata": {},
   "outputs": [
    {
     "name": "stdout",
     "output_type": "stream",
     "text": [
      "{'this': 1, 'is': 1, 'a': 1, 'test': 1, 'sentence': 1}\n"
     ]
    }
   ],
   "source": [
    "sentence = \"this is a test sentence\"\n",
    "def word_count(input_string):\n",
    "    # Convert the input string to lowercase and split it into a list of words\n",
    "    sentence = input_string.lower().split()\n",
    "    # Create an empty dictionary to store the words and their counts\n",
    "    sentence_ = {}\n",
    "    \n",
    "    # Iterate over each word in the sentence list\n",
    "    for s in sentence:\n",
    "        # Check if the word already exists in the dictionary\n",
    "        if s in sentence_:\n",
    "            # If the word exists, increment its count by 1\n",
    "            sentence_[s] += 1\n",
    "        else:\n",
    "            # If the word does not exist, add it to the dictionary with a count of 1\n",
    "            sentence_[s] = 1\n",
    "\n",
    "    # Return the dictionary containing the words and their counts\n",
    "    return sentence_\n",
    "result = word_count(sentence)\n",
    "print(result)"
   ]
  },
  {
   "attachments": {},
   "cell_type": "markdown",
   "metadata": {},
   "source": [
    "5. Write a program that takes two lists of numbers and returns a new list that contains only the numbers that are common to both lists."
   ]
  },
  {
   "cell_type": "code",
   "execution_count": 55,
   "metadata": {},
   "outputs": [
    {
     "name": "stdout",
     "output_type": "stream",
     "text": [
      "[2, 4, 6, 8]\n"
     ]
    }
   ],
   "source": [
    "list1 = [1, 2, 3, 4, 5, 6, 7, 8, 9]\n",
    "list2 = [2, 4, 6, 8, 10, 12, 14, 16, 18]\n",
    "def common_list(input_list1, input_list2):\n",
    "    # Create an empty list to store the common elements\n",
    "    common_list = []\n",
    "\n",
    "    # Iterate over each element in the first input list\n",
    "    for i in input_list1:\n",
    "        # Iterate over each element in the second input list\n",
    "        for j in input_list2:\n",
    "            # Check if the current elements of both input lists are equal\n",
    "            if i == j:\n",
    "                # If the elements are equal, add the element to the common list\n",
    "                common_list.append(i)\n",
    "\n",
    "    # Return the list of common elements\n",
    "    return common_list\n",
    "result = common_list(list1,list2)\n",
    "print(result)\n"
   ]
  },
  {
   "attachments": {},
   "cell_type": "markdown",
   "metadata": {},
   "source": [
    "6. Write a program that takes a list of integers and returns a new list that contains only the prime numbers from the original list."
   ]
  },
  {
   "cell_type": "code",
   "execution_count": 9,
   "metadata": {},
   "outputs": [
    {
     "name": "stdout",
     "output_type": "stream",
     "text": [
      "[2, 3, 5, 7, 11, 13]\n"
     ]
    }
   ],
   "source": [
    "numbers = [1, 2, 3, 4, 5, 6, 7, 8, 9, 10, 11, 12, 13, 14, 15]\n",
    "def prime_only(input_list):\n",
    "    # Create an empty list to store the prime numbers\n",
    "    prime_numbers = []\n",
    "\n",
    "    # Iterate over each number in the input list\n",
    "    for i in input_list:\n",
    "        # Check if the number is greater than 1 (since 1 is not a prime number)\n",
    "        if i > 1:\n",
    "            # Iterate over each number from 2 to i-1\n",
    "            for j in range(2, i):\n",
    "                # Check if i is divisible by j (i.e. if i is not a prime number)\n",
    "                if (i % j) == 0:\n",
    "                    # If i is not a prime number, break out of the inner loop\n",
    "                    break\n",
    "            else:\n",
    "                # If the inner loop completes without finding a factor of i, i is a prime number\n",
    "                # and we add it to the list of prime numbers\n",
    "                prime_numbers.append(i)\n",
    "\n",
    "    # Return the list of prime numbers\n",
    "    return prime_numbers\n",
    "result = prime_only(numbers)\n",
    "print(result)            \n"
   ]
  },
  {
   "attachments": {},
   "cell_type": "markdown",
   "metadata": {},
   "source": [
    "7. Write a program that takes a string and returns the number of words in the string."
   ]
  },
  {
   "cell_type": "code",
   "execution_count": 71,
   "metadata": {},
   "outputs": [
    {
     "name": "stdout",
     "output_type": "stream",
     "text": [
      "7\n"
     ]
    }
   ],
   "source": [
    "string = \"Write a program that takes a string\"\n",
    "# returning the number of words in a string\n",
    "print(len(string.split(\" \")))"
   ]
  },
  {
   "cell_type": "code",
   "execution_count": null,
   "metadata": {},
   "outputs": [],
   "source": []
  },
  {
   "attachments": {},
   "cell_type": "markdown",
   "metadata": {},
   "source": [
    "8. Write a program that takes a list of strings and returns a new list that contains only the strings that are palindrome."
   ]
  },
  {
   "cell_type": "code",
   "execution_count": 8,
   "metadata": {},
   "outputs": [
    {
     "name": "stdout",
     "output_type": "stream",
     "text": [
      "['madam', 'level', 'civic']\n"
     ]
    }
   ],
   "source": [
    "strings = [\"madam\", \"level\", \"civic\"]\n",
    "def palindrome_list(input_list):\n",
    "    # Create an empty list to store the palindromes\n",
    "    palindromes_ = []\n",
    "\n",
    "    # Iterate over each string in the input list\n",
    "    for i in input_list:\n",
    "        # Check if the string is a palindrome (i.e. if it's the same backwards as forwards)\n",
    "        if i == i[::-1]:\n",
    "            # If the string is a palindrome, add it to the palindromes list\n",
    "            palindromes_.append(i)\n",
    "\n",
    "    # Return the list of palindromes\n",
    "    return palindromes_\n",
    "result = palindrome_list(strings)\n",
    "print(result)           "
   ]
  },
  {
   "attachments": {},
   "cell_type": "markdown",
   "metadata": {},
   "source": [
    "9. Write a program that takes a sentence (string) and returns a tuple of the most frequent word and its frequency."
   ]
  },
  {
   "cell_type": "code",
   "execution_count": 7,
   "metadata": {},
   "outputs": [
    {
     "name": "stdout",
     "output_type": "stream",
     "text": [
      "('test', 3)\n"
     ]
    }
   ],
   "source": [
    "sentence = \"this is a test sentence to test the test\"\n",
    "\n",
    "def most_frequent_word(sentence):\n",
    "    # Split the sentence into words\n",
    "    words = sentence.split()\n",
    "\n",
    "    # Create a dictionary to store the frequency of each word\n",
    "    word_freq = {}\n",
    "\n",
    "    # Iterate over each word in the sentence\n",
    "    for word in words:\n",
    "        # If the word is already in the dictionary, increment its frequency\n",
    "        if word in word_freq:\n",
    "            word_freq[word] += 1\n",
    "        # If the word is not in the dictionary, add it with a frequency of 1\n",
    "        else:\n",
    "            word_freq[word] = 1\n",
    "\n",
    "    # Find the word with the highest frequency\n",
    "    most_frequent = max(word_freq, key=word_freq.get)\n",
    "\n",
    "    # Return a tuple containing the most frequent word and its frequency\n",
    "    return (most_frequent, word_freq[most_frequent])\n",
    "\n",
    "result = most_frequent_word(sentence)\n",
    "print(result) \n",
    "    "
   ]
  }
 ],
 "metadata": {
  "kernelspec": {
   "display_name": "Python 3",
   "language": "python",
   "name": "python3"
  },
  "language_info": {
   "codemirror_mode": {
    "name": "ipython",
    "version": 3
   },
   "file_extension": ".py",
   "mimetype": "text/x-python",
   "name": "python",
   "nbconvert_exporter": "python",
   "pygments_lexer": "ipython3",
   "version": "3.8.16 (default, Jan 10 2023, 15:23:34) \n[GCC 9.4.0]"
  },
  "orig_nbformat": 4,
  "vscode": {
   "interpreter": {
    "hash": "9ac03a0a6051494cc606d484d27d20fce22fb7b4d169f583271e11d5ba46a56e"
   }
  }
 },
 "nbformat": 4,
 "nbformat_minor": 2
}
