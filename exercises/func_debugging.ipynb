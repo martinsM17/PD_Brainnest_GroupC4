{
 "cells": [
  {
   "attachments": {},
   "cell_type": "markdown",
   "metadata": {},
   "source": [
    "1. This program is supposed to find the largest number in a list of numbers. However, the bug in this program is that the initial value of the \"largest\" variable is set to 0. This means that if the list of numbers only contains numbers that are less than 0, the function will return 0 instead of the largest negative number."
   ]
  },
  {
   "cell_type": "code",
   "execution_count": 6,
   "metadata": {},
   "outputs": [
    {
     "name": "stdout",
     "output_type": "stream",
     "text": [
      "0\n"
     ]
    }
   ],
   "source": [
    "def find_largest(numbers):\n",
    "    largest = 0\n",
    "    for number in numbers:\n",
    "        if number > largest:\n",
    "            largest = number\n",
    "    return largest\n",
    "\n",
    "numbers = [-1,-2,-3,-4]\n",
    "result = find_largest(numbers)\n",
    "print(result)"
   ]
  },
  {
   "cell_type": "code",
   "execution_count": 5,
   "metadata": {},
   "outputs": [
    {
     "name": "stdout",
     "output_type": "stream",
     "text": [
      "-4\n"
     ]
    }
   ],
   "source": [
    "# your code here\n",
    "def find_largest(numbers):\n",
    "    largest = 0\n",
    "    for number in numbers:\n",
    "        if number > largest or number < 0: # add condition to check numbers below 0\n",
    "            largest = number\n",
    "    return largest\n",
    "\n",
    "numbers = [-1,-2,-3,-4]\n",
    "result = find_largest(numbers)\n",
    "print(result)"
   ]
  },
  {
   "attachments": {},
   "cell_type": "markdown",
   "metadata": {},
   "source": [
    "2. This program is supposed to find the duplicate elements in an array, however there is a bug in this program. The bug is that this program will return duplicate duplicate elements multiple times in the result. For example, if the input array contains 3 duplicate elements of number 3, it will return [3, 3, 3] instead of [3]."
   ]
  },
  {
   "cell_type": "code",
   "execution_count": 21,
   "metadata": {},
   "outputs": [
    {
     "name": "stdout",
     "output_type": "stream",
     "text": [
      "[2, 3, 3, 3]\n"
     ]
    }
   ],
   "source": [
    "def find_duplicates(arr):\n",
    "    result = []\n",
    "    for i in range(len(arr)):\n",
    "        for j in range(i+1,len(arr)):\n",
    "            if arr[i] == arr[j]:\n",
    "                result.append(arr[i])\n",
    "    return result\n",
    "\n",
    "input_arr = [1, 2, 3, 4, 2, 3, 5, 6, 7, 3]\n",
    "output = find_duplicates(input_arr)\n",
    "print(output)"
   ]
  },
  {
   "cell_type": "code",
   "execution_count": 26,
   "metadata": {},
   "outputs": [
    {
     "name": "stdout",
     "output_type": "stream",
     "text": [
      "[2, 3, 3, 3]\n"
     ]
    }
   ],
   "source": [
    "\"\"\" The issue is that the loop should iterate up to len(arr)-1 for i,\n",
    "instead of up to len(arr). This is because in the inner loop, j already starts from i+1,\n",
    " so there is no need to iterate over the last element again. \n",
    "\"\"\"\n",
    "\n",
    "def find_duplicates(arr):\n",
    "    result = []\n",
    "    for i in range(len(arr)-1):\n",
    "        for j in range(i+1,len(arr)):\n",
    "            if arr[i] == arr[j]:\n",
    "                result.append(arr[i])\n",
    "    return result\n",
    "\n",
    "input_arr = [1, 2, 3, 4, 2, 3, 5, 6, 7, 3]\n",
    "output = find_duplicates(input_arr)\n",
    "print(output)"
   ]
  },
  {
   "attachments": {},
   "cell_type": "markdown",
   "metadata": {},
   "source": [
    "3. This program is supposed to divide two numbers, however there is a bug in this program. The bug is that this program will raise a ZeroDivisionError when the denominator is zero."
   ]
  },
  {
   "cell_type": "code",
   "execution_count": 27,
   "metadata": {},
   "outputs": [
    {
     "ename": "ZeroDivisionError",
     "evalue": "division by zero",
     "output_type": "error",
     "traceback": [
      "\u001b[0;31m---------------------------------------------------------------------------\u001b[0m",
      "\u001b[0;31mZeroDivisionError\u001b[0m                         Traceback (most recent call last)",
      "Cell \u001b[0;32mIn[27], line 4\u001b[0m\n\u001b[1;32m      1\u001b[0m \u001b[39mdef\u001b[39;00m \u001b[39mdivide\u001b[39m(x, y):\n\u001b[1;32m      2\u001b[0m     \u001b[39mreturn\u001b[39;00m x\u001b[39m/\u001b[39my\n\u001b[0;32m----> 4\u001b[0m result \u001b[39m=\u001b[39m divide(\u001b[39m5\u001b[39;49m, \u001b[39m0\u001b[39;49m)\n\u001b[1;32m      5\u001b[0m \u001b[39mprint\u001b[39m(result)\n",
      "Cell \u001b[0;32mIn[27], line 2\u001b[0m, in \u001b[0;36mdivide\u001b[0;34m(x, y)\u001b[0m\n\u001b[1;32m      1\u001b[0m \u001b[39mdef\u001b[39;00m \u001b[39mdivide\u001b[39m(x, y):\n\u001b[0;32m----> 2\u001b[0m     \u001b[39mreturn\u001b[39;00m x\u001b[39m/\u001b[39;49my\n",
      "\u001b[0;31mZeroDivisionError\u001b[0m: division by zero"
     ]
    }
   ],
   "source": [
    "def divide(x, y):\n",
    "    return x/y\n",
    "\n",
    "result = divide(5, 0)\n",
    "print(result)"
   ]
  },
  {
   "cell_type": "code",
   "execution_count": 16,
   "metadata": {},
   "outputs": [
    {
     "name": "stdout",
     "output_type": "stream",
     "text": [
      "0\n"
     ]
    }
   ],
   "source": [
    "# your code here\n",
    "def divide(x, y):\n",
    "    try:\n",
    "        return x/y\n",
    "    except ZeroDivisionError:\n",
    "        return  0\n",
    "   \n",
    "result = divide(5, 0)\n",
    "print(result)"
   ]
  },
  {
   "attachments": {},
   "cell_type": "markdown",
   "metadata": {},
   "source": [
    "4. This program is supposed to iterate through a list and print each element, however there is a bug in this program. The bug is that after the first iteration, the `data.pop(i)` command will remove the item at index `i` from the list, which will cause the list to change its size, but the variable `i` will still increment, this will cause the loop to skip an element in the list and print the wrong results."
   ]
  },
  {
   "cell_type": "code",
   "execution_count": 19,
   "metadata": {},
   "outputs": [
    {
     "name": "stdout",
     "output_type": "stream",
     "text": [
      "item1\n",
      "item3\n"
     ]
    },
    {
     "ename": "IndexError",
     "evalue": "list index out of range",
     "output_type": "error",
     "traceback": [
      "\u001b[0;31m---------------------------------------------------------------------------\u001b[0m",
      "\u001b[0;31mIndexError\u001b[0m                                Traceback (most recent call last)",
      "Cell \u001b[0;32mIn[19], line 3\u001b[0m\n\u001b[1;32m      1\u001b[0m data \u001b[39m=\u001b[39m [\u001b[39m\"\u001b[39m\u001b[39mitem1\u001b[39m\u001b[39m\"\u001b[39m, \u001b[39m\"\u001b[39m\u001b[39mitem2\u001b[39m\u001b[39m\"\u001b[39m, \u001b[39m\"\u001b[39m\u001b[39mitem3\u001b[39m\u001b[39m\"\u001b[39m]\n\u001b[1;32m      2\u001b[0m \u001b[39mfor\u001b[39;00m i \u001b[39min\u001b[39;00m \u001b[39mrange\u001b[39m(\u001b[39mlen\u001b[39m(data)):\n\u001b[0;32m----> 3\u001b[0m     \u001b[39mprint\u001b[39m(data[i])\n\u001b[1;32m      4\u001b[0m     data\u001b[39m.\u001b[39mpop(i)\n",
      "\u001b[0;31mIndexError\u001b[0m: list index out of range"
     ]
    }
   ],
   "source": [
    "data = [\"item1\", \"item2\", \"item3\"]\n",
    "for i in range(len(data)):\n",
    "    print(data[i])\n",
    "    data.pop(i)"
   ]
  },
  {
   "cell_type": "code",
   "execution_count": 1,
   "metadata": {},
   "outputs": [
    {
     "name": "stdout",
     "output_type": "stream",
     "text": [
      "item1\n",
      "item2\n",
      "item3\n"
     ]
    }
   ],
   "source": [
    "# your code here\n",
    "\n",
    "data = [\"item1\", \"item2\", \"item3\"]\n",
    "for i in range(len(data)):\n",
    "    print(data[i])\n",
    "    # data.pop(i)  we can comment out the line or delete it"
   ]
  }
 ],
 "metadata": {
  "kernelspec": {
   "display_name": "Python 3",
   "language": "python",
   "name": "python3"
  },
  "language_info": {
   "codemirror_mode": {
    "name": "ipython",
    "version": 3
   },
   "file_extension": ".py",
   "mimetype": "text/x-python",
   "name": "python",
   "nbconvert_exporter": "python",
   "pygments_lexer": "ipython3",
   "version": "3.8.16 (default, Jan 10 2023, 15:23:34) \n[GCC 9.4.0]"
  },
  "orig_nbformat": 4,
  "vscode": {
   "interpreter": {
    "hash": "9ac03a0a6051494cc606d484d27d20fce22fb7b4d169f583271e11d5ba46a56e"
   }
  }
 },
 "nbformat": 4,
 "nbformat_minor": 2
}
