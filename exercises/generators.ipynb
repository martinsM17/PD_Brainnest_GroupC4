{
 "cells": [
  {
   "cell_type": "code",
   "execution_count": null,
   "metadata": {},
   "outputs": [],
   "source": [
    "1.\n",
    "write a function that yields the first 10 prime numbers.\n",
    "\n",
    "Tips:\n",
    "\tyou need 2 functions (is_prime() and prime_numbers(n)) \n",
    "\t\n",
    "prime_generator = prime_numbers(10)\n",
    "print(list(prime_generator))\n",
    "\n",
    "# output should be:\n",
    "[2, 3, 5, 7, 11, 13, 17, 19, 23, 29]"
   ]
  },
  {
   "cell_type": "code",
   "execution_count": 3,
   "metadata": {},
   "outputs": [
    {
     "name": "stdout",
     "output_type": "stream",
     "text": [
      "[2, 3, 5, 7, 11, 13, 17, 19, 23, 29]\n"
     ]
    }
   ],
   "source": [
    "def prime_numbers(n):\n",
    "    count = 0\n",
    "    i = 2\n",
    "    while count < n:\n",
    "        if is_prime(i):\n",
    "            yield i\n",
    "            count += 1\n",
    "        i += 1\n",
    "        \n",
    "\n",
    "def is_prime(n):\n",
    "    if n < 2:\n",
    "        return False\n",
    "    for i in range(2, int(n**0.5)+1):\n",
    "        if n % i == 0:\n",
    "            return False\n",
    "    return True\n",
    "\n",
    "\n",
    "\n",
    "prime_generator = prime_numbers(10)\n",
    "print(list(prime_generator))"
   ]
  },
  {
   "cell_type": "markdown",
   "metadata": {},
   "source": []
  },
  {
   "cell_type": "markdown",
   "metadata": {},
   "source": []
  }
 ],
 "metadata": {
  "kernelspec": {
   "display_name": "Python 3",
   "language": "python",
   "name": "python3"
  },
  "language_info": {
   "codemirror_mode": {
    "name": "ipython",
    "version": 3
   },
   "file_extension": ".py",
   "mimetype": "text/x-python",
   "name": "python",
   "nbconvert_exporter": "python",
   "pygments_lexer": "ipython3",
   "version": "3.8.16"
  },
  "orig_nbformat": 4
 },
 "nbformat": 4,
 "nbformat_minor": 2
}
