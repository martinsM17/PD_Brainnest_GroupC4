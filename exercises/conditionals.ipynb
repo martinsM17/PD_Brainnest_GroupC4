{
 "cells": [
  {
   "attachments": {},
   "cell_type": "markdown",
   "metadata": {},
   "source": [
    "1. Write a program that prompts the user for a string and checks whether the string is a palindrome (i.e., the string reads the same forward and backward)."
   ]
  },
  {
   "cell_type": "code",
   "execution_count": 26,
   "metadata": {},
   "outputs": [
    {
     "name": "stdout",
     "output_type": "stream",
     "text": [
      "madam is a palindrome\n"
     ]
    }
   ],
   "source": [
    "# Requesting input from user\n",
    "word = str(input(\"Enter word:\"))\n",
    "\"\"\"\n",
    "Function to check whether the word is a palindrome\n",
    "\"\"\"\n",
    "def is_palindrome(word):\n",
    "    if word == word[::-1]:\n",
    "        print(f\"{word} is a palindrome\")\n",
    "    else:\n",
    "        print(f\"{word} is not a palindrome\")\n",
    "palindrome = is_palindrome(word)   \n"
   ]
  },
  {
   "attachments": {},
   "cell_type": "markdown",
   "metadata": {},
   "source": [
    "2. Write a program that takes in a list of integers and returns the sum of all even numbers in the list."
   ]
  },
  {
   "cell_type": "code",
   "execution_count": 62,
   "metadata": {},
   "outputs": [
    {
     "name": "stdout",
     "output_type": "stream",
     "text": [
      "The sum of even numbers in [12, 52, 45, 3, 24, 5, 61] is 88\n"
     ]
    }
   ],
   "source": [
    "list = [12,52,45,3,24,5,61]\n",
    "def sum_even(list):\n",
    "    even_sum = 0\n",
    "    for i in list:\n",
    "        if i % 2 == 0:\n",
    "            even_sum += i\n",
    "    return even_sum    \n",
    "        \n",
    "print(f\"The sum of even numbers in {list} is {sum_even(list)}\")"
   ]
  },
  {
   "attachments": {},
   "cell_type": "markdown",
   "metadata": {},
   "source": [
    "3. Write a program that prompts the user for their age and checks whether they are old enough to vote (i.e., 18 years old or older)."
   ]
  },
  {
   "cell_type": "code",
   "execution_count": 39,
   "metadata": {},
   "outputs": [
    {
     "name": "stdout",
     "output_type": "stream",
     "text": [
      "You are old enough to vote\n"
     ]
    }
   ],
   "source": [
    "age = int(input(\"Enter age:\"))\n",
    "if age > 18:\n",
    "    print(\"You are old enough to vote\")\n",
    "else:\n",
    "    print(\"You are not old enough to vote\")"
   ]
  },
  {
   "attachments": {},
   "cell_type": "markdown",
   "metadata": {},
   "source": [
    "4. Write a program that takes in a list of integers and returns the largest number in the list that is also divisible by 3."
   ]
  },
  {
   "cell_type": "code",
   "execution_count": 40,
   "metadata": {},
   "outputs": [
    {
     "name": "stdout",
     "output_type": "stream",
     "text": [
      "The largest number divisible by 3 is 72\n"
     ]
    }
   ],
   "source": [
    "nums = [1,3,2,4,5,9,72,13,16]\n",
    "def largest_bythree(nums):\n",
    "    largest_num = 0\n",
    "    for num in nums:\n",
    "        if num % 3 == 0 and num > largest_num:\n",
    "            largest_num = num\n",
    "    return largest_num            \n",
    "largest_numb = largest_bythree(nums)\n",
    "print(f\"The largest number divisible by 3 is {largest_numb}\")"
   ]
  },
  {
   "attachments": {},
   "cell_type": "markdown",
   "metadata": {},
   "source": [
    "5. Write a program that prompts the user for a number and checks whether the number is a prime number (i.e., only divisible by 1 and itself)."
   ]
  },
  {
   "cell_type": "code",
   "execution_count": 36,
   "metadata": {},
   "outputs": [
    {
     "name": "stdout",
     "output_type": "stream",
     "text": [
      "25 is not a prime number\n"
     ]
    }
   ],
   "source": [
    "x = int(input(\"Enter number:\"))\n",
    "def is_prime(x):\n",
    "    if n < 2:\n",
    "        return False\n",
    "    for i in range(2, int(x ** 0.5) + 1):\n",
    "        if x % i == 0:\n",
    "            return False\n",
    "    return True\n",
    "if is_prime(x):\n",
    "    print(\"{x} is a prime number\")\n",
    "else:\n",
    "    print(\"{x} is not a prime number\")"
   ]
  }
 ],
 "metadata": {
  "kernelspec": {
   "display_name": "Python 3",
   "language": "python",
   "name": "python3"
  },
  "language_info": {
   "codemirror_mode": {
    "name": "ipython",
    "version": 3
   },
   "file_extension": ".py",
   "mimetype": "text/x-python",
   "name": "python",
   "nbconvert_exporter": "python",
   "pygments_lexer": "ipython3",
   "version": "3.8.16"
  },
  "orig_nbformat": 4,
  "vscode": {
   "interpreter": {
    "hash": "9ac03a0a6051494cc606d484d27d20fce22fb7b4d169f583271e11d5ba46a56e"
   }
  }
 },
 "nbformat": 4,
 "nbformat_minor": 2
}
